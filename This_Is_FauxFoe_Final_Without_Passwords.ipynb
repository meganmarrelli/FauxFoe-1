{
 "cells": [
  {
   "cell_type": "code",
   "execution_count": 93,
   "metadata": {
    "collapsed": true
   },
   "outputs": [],
   "source": [
    "# FauxFoe is being produced by myself and Megan Marelli, a colleague and fellow CJS student. \n",
    "\n",
    "# The premise is quite simple. We will leverage Google's new ClaimReview to monitor Twitter. First and foremost, \n",
    "# if a Twitter user publishes a link that has been subjected to Google's ClaimReview, FauxFoe will comment on that \n",
    "# tweet or DM the user responsible for the tweet notifying them that the claim has been reviewed. \n",
    "\n",
    "# As FauxFoe continues to grow, we plan to parse each tweet so that we can address users that rely on 'fake news' \n",
    "# for information rather than for direct posts. For instance, if somebody uses a ClaimReviewed fact in a Twitter \n",
    "# argument, but does not post the exact link, FauxFoe will be able to address that claim. \n",
    "\n",
    "# Alas, for now, FauxFoe is in its infancy. Below is some of the base code that will be used to operate FauxFoe. "
   ]
  },
  {
   "cell_type": "code",
   "execution_count": 95,
   "metadata": {
    "collapsed": true
   },
   "outputs": [],
   "source": [
    "# The guideliens to the metadata can be found here... \n",
    "# http://schema.org/ClaimReview"
   ]
  },
  {
   "cell_type": "code",
   "execution_count": 96,
   "metadata": {
    "collapsed": false
   },
   "outputs": [],
   "source": [
    "import requests\n",
    "# Requests documentation: http://docs.python-requests.org/en/master/\n",
    "\n",
    "url = 'http://feeds.washingtonpost.com/rss/rss_fact-checker'\n",
    "# As an example of FauxFoe's leveraging ClaimReview, we will pull the rss feed from the Washington Post's Fact \n",
    "# Checker, which includes articles that utilize Google's ClaimReview. \n",
    "\n",
    "r = requests.get(url)"
   ]
  },
  {
   "cell_type": "code",
   "execution_count": 97,
   "metadata": {
    "collapsed": false
   },
   "outputs": [],
   "source": [
    "from bs4 import BeautifulSoup\n",
    "# BeautifulSoup documentation: https://www.crummy.com/software/BeautifulSoup/bs4/doc/\n",
    "\n",
    "soup = BeautifulSoup(r.text)"
   ]
  },
  {
   "cell_type": "code",
   "execution_count": 98,
   "metadata": {
    "collapsed": false,
    "scrolled": true
   },
   "outputs": [],
   "source": [
    "url_list = []\n",
    "# Create a new, empty array in which we can store the URL's for each of the ClaimReviewed articles featured on the \n",
    "# WaPo Fact Checker site. \n",
    "\n",
    "for a in soup.find_all('a', href=True): \n",
    "    url_list.append(a['href'])"
   ]
  },
  {
   "cell_type": "code",
   "execution_count": 99,
   "metadata": {
    "collapsed": false
   },
   "outputs": [],
   "source": [
    "for i in url_list: \n",
    "# For every URL...\n",
    "    x = requests.get(i)\n",
    "    soup = BeautifulSoup(x.text)"
   ]
  },
  {
   "cell_type": "code",
   "execution_count": 100,
   "metadata": {
    "collapsed": false,
    "scrolled": true
   },
   "outputs": [],
   "source": [
    "# We will now pull aspects of the ClaimReview micro data (which can be found at schema.org) for each URL so that we\n",
    "# can later put that data into a dataframe (it'll all make sense in a moment!)\n",
    "\n",
    "x = requests.get(i)\n",
    "soup = BeautifulSoup(x.text)\n",
    "l = (soup(itemprop=\"claimReviewed\"))\n",
    "m = (soup(itemprop=\"ratingValue\"))\n",
    "n = (soup(itemprop=\"datePublished\"))\n",
    "o = str(i)"
   ]
  },
  {
   "cell_type": "code",
   "execution_count": 101,
   "metadata": {
    "collapsed": true
   },
   "outputs": [],
   "source": [
    "# To explore the rating scale, visit: https://developers.google.com/search/docs/data-types/factcheck"
   ]
  },
  {
   "cell_type": "code",
   "execution_count": 102,
   "metadata": {
    "collapsed": false
   },
   "outputs": [],
   "source": [
    "import pandas as pd\n",
    "from pandas import DataFrame\n",
    "\n",
    "# Pandas.DataFrame documentation: http://pandas.pydata.org/pandas-docs/stable/generated/pandas.DataFrame.html"
   ]
  },
  {
   "cell_type": "code",
   "execution_count": 103,
   "metadata": {
    "collapsed": false
   },
   "outputs": [
    {
     "name": "stdout",
     "output_type": "stream",
     "text": [
      "[]\n"
     ]
    }
   ],
   "source": [
    "column_names = [\"claimReviewed\",\"datePublished\",\"ratingValue\",\"url\"]\n",
    "# Generate the column names for our data frame... \n",
    "\n",
    "rows = []\n",
    "\n",
    "no_claimreview = []\n",
    "# Generate an empty array titled 'rows' (which we will import our ClaimReview data into in a moment)\n",
    "\n",
    "for i in url_list: \n",
    "    x = requests.get(i)\n",
    "    soup = BeautifulSoup(x.text)\n",
    "    \n",
    "    l = (soup(itemprop=\"claimReviewed\"))\n",
    "    m = (soup(itemprop=\"ratingValue\"))\n",
    "    n = (soup(itemprop=\"datePublished\"))\n",
    "    o = str(i)\n",
    "    # Note that this is the same code as before, only now we are importing it into the data frame! \n",
    "    \n",
    "    if l and m and n and o: \n",
    "        rows.append([l[0].text,n[0].text,m[0].text,o]) \n",
    "    else: \n",
    "        no_claimreview.append(i)\n",
    "\n",
    "df = DataFrame(rows,columns=column_names)\n",
    "\n",
    "print no_claimreview"
   ]
  },
  {
   "cell_type": "code",
   "execution_count": 104,
   "metadata": {
    "collapsed": false,
    "scrolled": false
   },
   "outputs": [
    {
     "data": {
      "text/html": [
       "<div>\n",
       "<table border=\"1\" class=\"dataframe\">\n",
       "  <thead>\n",
       "    <tr style=\"text-align: right;\">\n",
       "      <th></th>\n",
       "      <th>claimReviewed</th>\n",
       "      <th>datePublished</th>\n",
       "      <th>ratingValue</th>\n",
       "      <th>url</th>\n",
       "    </tr>\n",
       "  </thead>\n",
       "  <tbody>\n",
       "    <tr>\n",
       "      <th>0</th>\n",
       "      <td>\"I nevertheless concur with the judgment of th...</td>\n",
       "      <td>May 11 at 3:00 AM</td>\n",
       "      <td>-1</td>\n",
       "      <td>http://www.washingtonpost.com/blogs/fact-check...</td>\n",
       "    </tr>\n",
       "    <tr>\n",
       "      <th>1</th>\n",
       "      <td>\"I greatly appreciate you informing me, on thr...</td>\n",
       "      <td>May 10 at 6:32 PM</td>\n",
       "      <td>-1</td>\n",
       "      <td>http://www.washingtonpost.com/blogs/fact-check...</td>\n",
       "    </tr>\n",
       "    <tr>\n",
       "      <th>2</th>\n",
       "      <td>\"The abuses were all over. As just one example...</td>\n",
       "      <td>May 10</td>\n",
       "      <td>4</td>\n",
       "      <td>http://www.washingtonpost.com/blogs/fact-check...</td>\n",
       "    </tr>\n",
       "    <tr>\n",
       "      <th>3</th>\n",
       "      <td>“Once again, 129M people with pre-existing con...</td>\n",
       "      <td>May 10 at 3:00 AM</td>\n",
       "      <td>5</td>\n",
       "      <td>http://www.washingtonpost.com/blogs/fact-check...</td>\n",
       "    </tr>\n",
       "    <tr>\n",
       "      <th>4</th>\n",
       "      <td>“General Flynn was given the highest security ...</td>\n",
       "      <td>May 9</td>\n",
       "      <td>4</td>\n",
       "      <td>http://www.washingtonpost.com/blogs/fact-check...</td>\n",
       "    </tr>\n",
       "    <tr>\n",
       "      <th>5</th>\n",
       "      <td>“The fact of the matter is that Medicaid spend...</td>\n",
       "      <td>May 8</td>\n",
       "      <td>5</td>\n",
       "      <td>http://www.washingtonpost.com/blogs/fact-check...</td>\n",
       "    </tr>\n",
       "    <tr>\n",
       "      <th>6</th>\n",
       "      <td>American Health Care Act \"made being a rape su...</td>\n",
       "      <td>May 6</td>\n",
       "      <td>5</td>\n",
       "      <td>http://www.washingtonpost.com/blogs/fact-check...</td>\n",
       "    </tr>\n",
       "    <tr>\n",
       "      <th>7</th>\n",
       "      <td>“We’re not taking a benefit away. Nobody on Me...</td>\n",
       "      <td>May 5</td>\n",
       "      <td>4</td>\n",
       "      <td>http://www.washingtonpost.com/blogs/fact-check...</td>\n",
       "    </tr>\n",
       "    <tr>\n",
       "      <th>8</th>\n",
       "      <td>\"VERIFIED: MacArthur Amendment strengthens AHC...</td>\n",
       "      <td>May 4</td>\n",
       "      <td>-1</td>\n",
       "      <td>http://www.washingtonpost.com/blogs/fact-check...</td>\n",
       "    </tr>\n",
       "    <tr>\n",
       "      <th>9</th>\n",
       "      <td>Obama \"simply imposed regulation without prope...</td>\n",
       "      <td>May 3</td>\n",
       "      <td>4</td>\n",
       "      <td>http://www.washingtonpost.com/blogs/fact-check...</td>\n",
       "    </tr>\n",
       "  </tbody>\n",
       "</table>\n",
       "</div>"
      ],
      "text/plain": [
       "                                       claimReviewed      datePublished  \\\n",
       "0  \"I nevertheless concur with the judgment of th...  May 11 at 3:00 AM   \n",
       "1  \"I greatly appreciate you informing me, on thr...  May 10 at 6:32 PM   \n",
       "2  \"The abuses were all over. As just one example...             May 10   \n",
       "3  “Once again, 129M people with pre-existing con...  May 10 at 3:00 AM   \n",
       "4  “General Flynn was given the highest security ...              May 9   \n",
       "5  “The fact of the matter is that Medicaid spend...              May 8   \n",
       "6  American Health Care Act \"made being a rape su...              May 6   \n",
       "7  “We’re not taking a benefit away. Nobody on Me...              May 5   \n",
       "8  \"VERIFIED: MacArthur Amendment strengthens AHC...              May 4   \n",
       "9  Obama \"simply imposed regulation without prope...              May 3   \n",
       "\n",
       "  ratingValue                                                url  \n",
       "0          -1  http://www.washingtonpost.com/blogs/fact-check...  \n",
       "1          -1  http://www.washingtonpost.com/blogs/fact-check...  \n",
       "2           4  http://www.washingtonpost.com/blogs/fact-check...  \n",
       "3           5  http://www.washingtonpost.com/blogs/fact-check...  \n",
       "4           4  http://www.washingtonpost.com/blogs/fact-check...  \n",
       "5           5  http://www.washingtonpost.com/blogs/fact-check...  \n",
       "6           5  http://www.washingtonpost.com/blogs/fact-check...  \n",
       "7           4  http://www.washingtonpost.com/blogs/fact-check...  \n",
       "8          -1  http://www.washingtonpost.com/blogs/fact-check...  \n",
       "9           4  http://www.washingtonpost.com/blogs/fact-check...  "
      ]
     },
     "execution_count": 104,
     "metadata": {},
     "output_type": "execute_result"
    }
   ],
   "source": [
    "df\n",
    "# So we can see what we're getting - looks good! "
   ]
  },
  {
   "cell_type": "code",
   "execution_count": 105,
   "metadata": {
    "collapsed": true
   },
   "outputs": [],
   "source": [
    "edited_claimReviewed = [\"James Comey not able to lead the Bureau\",\"Trump not being under investigation\",\"People being forbidden from getting religious items\",\"129M people being denied coverage\",\"General Flynn and his security clearance\",\"Medicaid spending\",\"AHCA and pre-existing conditions\",\"Medicaid benefits being taken away\",\"The MacArthur Amendment\",\"Obama's imposed regulations\"]"
   ]
  },
  {
   "cell_type": "code",
   "execution_count": null,
   "metadata": {
    "collapsed": true
   },
   "outputs": [],
   "source": [
    "# Note that we manually created a \"edited_claimReviewed\" column to surpass the 140 character Twitter limit. "
   ]
  },
  {
   "cell_type": "code",
   "execution_count": 106,
   "metadata": {
    "collapsed": false
   },
   "outputs": [],
   "source": [
    "df[\"edited_claimReviewed\"] = edited_claimReviewed"
   ]
  },
  {
   "cell_type": "code",
   "execution_count": 107,
   "metadata": {
    "collapsed": false
   },
   "outputs": [
    {
     "data": {
      "text/html": [
       "<div>\n",
       "<table border=\"1\" class=\"dataframe\">\n",
       "  <thead>\n",
       "    <tr style=\"text-align: right;\">\n",
       "      <th></th>\n",
       "      <th>claimReviewed</th>\n",
       "      <th>datePublished</th>\n",
       "      <th>ratingValue</th>\n",
       "      <th>url</th>\n",
       "      <th>edited_claimReviewed</th>\n",
       "    </tr>\n",
       "  </thead>\n",
       "  <tbody>\n",
       "    <tr>\n",
       "      <th>0</th>\n",
       "      <td>\"I nevertheless concur with the judgment of th...</td>\n",
       "      <td>May 11 at 3:00 AM</td>\n",
       "      <td>-1</td>\n",
       "      <td>http://www.washingtonpost.com/blogs/fact-check...</td>\n",
       "      <td>James Comey not able to lead the Bureau</td>\n",
       "    </tr>\n",
       "    <tr>\n",
       "      <th>1</th>\n",
       "      <td>\"I greatly appreciate you informing me, on thr...</td>\n",
       "      <td>May 10 at 6:32 PM</td>\n",
       "      <td>-1</td>\n",
       "      <td>http://www.washingtonpost.com/blogs/fact-check...</td>\n",
       "      <td>Trump not being under investigation</td>\n",
       "    </tr>\n",
       "    <tr>\n",
       "      <th>2</th>\n",
       "      <td>\"The abuses were all over. As just one example...</td>\n",
       "      <td>May 10</td>\n",
       "      <td>4</td>\n",
       "      <td>http://www.washingtonpost.com/blogs/fact-check...</td>\n",
       "      <td>People being forbidden from getting religious ...</td>\n",
       "    </tr>\n",
       "    <tr>\n",
       "      <th>3</th>\n",
       "      <td>“Once again, 129M people with pre-existing con...</td>\n",
       "      <td>May 10 at 3:00 AM</td>\n",
       "      <td>5</td>\n",
       "      <td>http://www.washingtonpost.com/blogs/fact-check...</td>\n",
       "      <td>129M people being denied coverage</td>\n",
       "    </tr>\n",
       "    <tr>\n",
       "      <th>4</th>\n",
       "      <td>“General Flynn was given the highest security ...</td>\n",
       "      <td>May 9</td>\n",
       "      <td>4</td>\n",
       "      <td>http://www.washingtonpost.com/blogs/fact-check...</td>\n",
       "      <td>General Flynn and his security clearance</td>\n",
       "    </tr>\n",
       "    <tr>\n",
       "      <th>5</th>\n",
       "      <td>“The fact of the matter is that Medicaid spend...</td>\n",
       "      <td>May 8</td>\n",
       "      <td>5</td>\n",
       "      <td>http://www.washingtonpost.com/blogs/fact-check...</td>\n",
       "      <td>Medicaid spending</td>\n",
       "    </tr>\n",
       "    <tr>\n",
       "      <th>6</th>\n",
       "      <td>American Health Care Act \"made being a rape su...</td>\n",
       "      <td>May 6</td>\n",
       "      <td>5</td>\n",
       "      <td>http://www.washingtonpost.com/blogs/fact-check...</td>\n",
       "      <td>AHCA and pre-existing conditions</td>\n",
       "    </tr>\n",
       "    <tr>\n",
       "      <th>7</th>\n",
       "      <td>“We’re not taking a benefit away. Nobody on Me...</td>\n",
       "      <td>May 5</td>\n",
       "      <td>4</td>\n",
       "      <td>http://www.washingtonpost.com/blogs/fact-check...</td>\n",
       "      <td>Medicaid benefits being taken away</td>\n",
       "    </tr>\n",
       "    <tr>\n",
       "      <th>8</th>\n",
       "      <td>\"VERIFIED: MacArthur Amendment strengthens AHC...</td>\n",
       "      <td>May 4</td>\n",
       "      <td>-1</td>\n",
       "      <td>http://www.washingtonpost.com/blogs/fact-check...</td>\n",
       "      <td>The MacArthur Amendment</td>\n",
       "    </tr>\n",
       "    <tr>\n",
       "      <th>9</th>\n",
       "      <td>Obama \"simply imposed regulation without prope...</td>\n",
       "      <td>May 3</td>\n",
       "      <td>4</td>\n",
       "      <td>http://www.washingtonpost.com/blogs/fact-check...</td>\n",
       "      <td>Obama's imposed regulations</td>\n",
       "    </tr>\n",
       "  </tbody>\n",
       "</table>\n",
       "</div>"
      ],
      "text/plain": [
       "                                       claimReviewed      datePublished  \\\n",
       "0  \"I nevertheless concur with the judgment of th...  May 11 at 3:00 AM   \n",
       "1  \"I greatly appreciate you informing me, on thr...  May 10 at 6:32 PM   \n",
       "2  \"The abuses were all over. As just one example...             May 10   \n",
       "3  “Once again, 129M people with pre-existing con...  May 10 at 3:00 AM   \n",
       "4  “General Flynn was given the highest security ...              May 9   \n",
       "5  “The fact of the matter is that Medicaid spend...              May 8   \n",
       "6  American Health Care Act \"made being a rape su...              May 6   \n",
       "7  “We’re not taking a benefit away. Nobody on Me...              May 5   \n",
       "8  \"VERIFIED: MacArthur Amendment strengthens AHC...              May 4   \n",
       "9  Obama \"simply imposed regulation without prope...              May 3   \n",
       "\n",
       "  ratingValue                                                url  \\\n",
       "0          -1  http://www.washingtonpost.com/blogs/fact-check...   \n",
       "1          -1  http://www.washingtonpost.com/blogs/fact-check...   \n",
       "2           4  http://www.washingtonpost.com/blogs/fact-check...   \n",
       "3           5  http://www.washingtonpost.com/blogs/fact-check...   \n",
       "4           4  http://www.washingtonpost.com/blogs/fact-check...   \n",
       "5           5  http://www.washingtonpost.com/blogs/fact-check...   \n",
       "6           5  http://www.washingtonpost.com/blogs/fact-check...   \n",
       "7           4  http://www.washingtonpost.com/blogs/fact-check...   \n",
       "8          -1  http://www.washingtonpost.com/blogs/fact-check...   \n",
       "9           4  http://www.washingtonpost.com/blogs/fact-check...   \n",
       "\n",
       "                                edited_claimReviewed  \n",
       "0            James Comey not able to lead the Bureau  \n",
       "1                Trump not being under investigation  \n",
       "2  People being forbidden from getting religious ...  \n",
       "3                  129M people being denied coverage  \n",
       "4           General Flynn and his security clearance  \n",
       "5                                  Medicaid spending  \n",
       "6                   AHCA and pre-existing conditions  \n",
       "7                 Medicaid benefits being taken away  \n",
       "8                            The MacArthur Amendment  \n",
       "9                        Obama's imposed regulations  "
      ]
     },
     "execution_count": 107,
     "metadata": {},
     "output_type": "execute_result"
    }
   ],
   "source": [
    "df"
   ]
  },
  {
   "cell_type": "code",
   "execution_count": 108,
   "metadata": {
    "collapsed": true
   },
   "outputs": [],
   "source": [
    "CONSUMER_KEY = \"***\"\n",
    "CONSUMER_SECRET = \"***\"\n",
    "ACCESS_TOKEN = \"***\"\n",
    "ACCESS_TOKEN_SECRET = \"***\"\n",
    "\n",
    "# For more on the Twitter API, visit https://dev.twitter.com/overview/api "
   ]
  },
  {
   "cell_type": "code",
   "execution_count": 109,
   "metadata": {
    "collapsed": false
   },
   "outputs": [],
   "source": [
    "from tweepy import OAuthHandler, API\n",
    "# Tweepy documentation: http://docs.tweepy.org/en/v3.5.0/\n",
    "\n",
    "# Setup the authentication\n",
    "auth = OAuthHandler(CONSUMER_KEY, CONSUMER_SECRET)\n",
    "auth.set_access_token(ACCESS_TOKEN, ACCESS_TOKEN_SECRET)\n",
    "\n",
    "# Create an object we will use to communicate with the Twitter API\n",
    "api = API(auth)"
   ]
  },
  {
   "cell_type": "code",
   "execution_count": 132,
   "metadata": {
    "collapsed": true
   },
   "outputs": [],
   "source": [
    "import time "
   ]
  },
  {
   "cell_type": "code",
   "execution_count": 126,
   "metadata": {
    "collapsed": false
   },
   "outputs": [],
   "source": [
    "from tweepy import Cursor\n",
    "# A brief introduction to Tweepy's Cursor: http://docs.tweepy.org/en/v3.5.0/cursor_tutorial.html#introduction\n",
    "\n",
    "claim_DataFrame = [] \n",
    "# Create a new, empty list that we will soon fill with data frames. Again, this will make sense a few lines down! \n",
    "\n",
    "for i in range(0,10):\n",
    "\n",
    "    for query in df[\"claimReviewed\"]: \n",
    "# For every one of the claims reviewed in our original data frame (named 'df')\n",
    "\n",
    "        ids = []\n",
    "        texts = []\n",
    "        times = []\n",
    "        retweets = []\n",
    "        screen_names = []\n",
    "        followers_counts = []\n",
    "        friends_counts = []\n",
    "    # We want to create empty lists for each of these fields so that we can input data into them. \n",
    "    \n",
    "\n",
    "        for page in Cursor(api.search, q=query, result_type='recent', count=100, until=\"2017-05-11\").pages(10):\n",
    "    \n",
    "            for tweet in page:\n",
    "        # For every search...\n",
    "\n",
    "                ids.append(tweet.id)\n",
    "                texts.append(tweet.text)\n",
    "                times.append(tweet.created_at)\n",
    "                retweets.append(tweet.retweet_count)\n",
    "                screen_names.append(tweet.user.screen_name)\n",
    "                friends_counts.append(tweet.user.friends_count)\n",
    "                followers_counts.append(tweet.user.followers_count)\n",
    "            # Append these values into our empty lists generated above...\n",
    "        \n",
    "            \n",
    "        df_2 = DataFrame({\"id\":ids,\"text\":texts,\"time\":times,\"retweet\":retweets,\"screen_name\":screen_names,\"friends_count\":friends_counts,\"followers_count\":followers_counts})\n",
    "        # ...And create a new data frame, named 'df_2' with those values.    \n",
    "            \n",
    "        claim_DataFrame.append(df_2)   \n",
    "        # Finally, append that new data frame, 'df_2', to our empty, 'claim_DataFrame' list. \n",
    "        \n",
    "        time.sleep(30)"
   ]
  },
  {
   "cell_type": "code",
   "execution_count": 127,
   "metadata": {
    "collapsed": false
   },
   "outputs": [],
   "source": [
    "tweet_text = []\n",
    "\n",
    "for i in range(df.shape[0]): \n",
    "    if int(df[\"ratingValue\"][i]) < 0: \n",
    "        for j in range(claim_DataFrame[i].shape[0]):\n",
    "        \n",
    "            sn = claim_DataFrame[i][\"screen_name\"][j]\n",
    "            fid = claim_DataFrame[i][\"id\"][j]\n",
    "            tweet = \" Hello! @\"+sn+ ' ' + \"WaPo has refuted your claim about \" +df[\"edited_claimReviewed\"][i] + df[\"url\"][i] \n",
    "            tweet_text.append([tweet,fid])"
   ]
  },
  {
   "cell_type": "code",
   "execution_count": null,
   "metadata": {
    "collapsed": false,
    "scrolled": true
   },
   "outputs": [],
   "source": [
    "for li in tweet_text: \n",
    "    api.update_status(str(li[0]),in_reply_to_status_id=int(li[1]))\n",
    "    time.sleep(100)"
   ]
  },
  {
   "cell_type": "code",
   "execution_count": 1,
   "metadata": {
    "collapsed": true
   },
   "outputs": [],
   "source": [
    "# Also note that in some cases, the 'in_reply_to_status_id' does not work. If anyone can figure out why, please let us know!"
   ]
  },
  {
   "cell_type": "code",
   "execution_count": 1,
   "metadata": {
    "collapsed": true
   },
   "outputs": [],
   "source": [
    "# Also also, we keep getting kicked off of Twitter/being reported. Any solutions to that one are equally welcome!"
   ]
  },
  {
   "cell_type": "code",
   "execution_count": null,
   "metadata": {
    "collapsed": true
   },
   "outputs": [],
   "source": []
  }
 ],
 "metadata": {
  "kernelspec": {
   "display_name": "Python 2",
   "language": "python",
   "name": "python2"
  },
  "language_info": {
   "codemirror_mode": {
    "name": "ipython",
    "version": 2
   },
   "file_extension": ".py",
   "mimetype": "text/x-python",
   "name": "python",
   "nbconvert_exporter": "python",
   "pygments_lexer": "ipython2",
   "version": "2.7.12"
  }
 },
 "nbformat": 4,
 "nbformat_minor": 2
}
